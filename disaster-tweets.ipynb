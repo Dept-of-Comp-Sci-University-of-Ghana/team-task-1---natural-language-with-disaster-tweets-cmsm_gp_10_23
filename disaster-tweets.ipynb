{
 "cells": [
  {
   "cell_type": "code",
   "execution_count": 1,
   "id": "8428d318",
   "metadata": {},
   "outputs": [],
   "source": [
    "import pandas as pd\n",
    "import numpy as np\n",
    "import matplotlib.pyplot as plt\n",
    "from wordcloud import WordCloud\n",
    "from sklearn.feature_extraction.text import CountVectorizer\n",
    "from sklearn.feature_extraction.text import TfidfTransformer\n",
    "from sklearn.naive_bayes import MultinomialNB\n",
    "from sklearn.linear_model import SGDClassifier\n",
    "from sklearn.ensemble import RandomForestClassifier\n",
    "from sklearn.linear_model import LogisticRegression\n",
    "from sklearn.metrics import confusion_matrix\n",
    "from sklearn.metrics import (accuracy_score, precision_score, recall_score, f1_score)"
   ]
  },
  {
   "cell_type": "code",
   "execution_count": 5,
   "id": "76189c8b",
   "metadata": {},
   "outputs": [],
   "source": [
    "# Columns 3 and 4 (count starting from zero) are the columns of interest in the training set\n",
    "#train_dataset = pd.read_csv('./train.csv', nrows=1000, usecols=[3, 4])\n",
    "train_dataset = pd.read_csv('./train.csv', usecols=[3, 4])\n",
    "\n",
    "# Column 3 is the column of interest in the testing set\n",
    "#test_dataset = pd.read_csv('./test.csv', nrows=1000, usecols=[3])\n",
    "test_dataset = pd.read_csv('./test.csv', usecols=[3])"
   ]
  },
  {
   "cell_type": "code",
   "execution_count": 3,
   "id": "66dacdad",
   "metadata": {},
   "outputs": [
    {
     "name": "stdout",
     "output_type": "stream",
     "text": [
      "Training set:  <bound method NDFrame.head of                                                    text  target\n",
      "0     Our Deeds are the Reason of this #earthquake M...       1\n",
      "1                Forest fire near La Ronge Sask. Canada       1\n",
      "2     All residents asked to 'shelter in place' are ...       1\n",
      "3     13,000 people receive #wildfires evacuation or...       1\n",
      "4     Just got sent this photo from Ruby #Alaska as ...       1\n",
      "...                                                 ...     ...\n",
      "7608  Two giant cranes holding a bridge collapse int...       1\n",
      "7609  @aria_ahrary @TheTawniest The out of control w...       1\n",
      "7610  M1.94 [01:04 UTC]?5km S of Volcano Hawaii. htt...       1\n",
      "7611  Police investigating after an e-bike collided ...       1\n",
      "7612  The Latest: More Homes Razed by Northern Calif...       1\n",
      "\n",
      "[7613 rows x 2 columns]>\n"
     ]
    }
   ],
   "source": [
    "#Exploring the datasets\n",
    "print(\"Training set: \", train_dataset.head)"
   ]
  },
  {
   "cell_type": "code",
   "execution_count": 6,
   "id": "f0a2b384",
   "metadata": {},
   "outputs": [
    {
     "name": "stdout",
     "output_type": "stream",
     "text": [
      "Testing set:  <bound method NDFrame.head of                                                    text\n",
      "0                    Just happened a terrible car crash\n",
      "1     Heard about #earthquake is different cities, s...\n",
      "2     there is a forest fire at spot pond, geese are...\n",
      "3              Apocalypse lighting. #Spokane #wildfires\n",
      "4         Typhoon Soudelor kills 28 in China and Taiwan\n",
      "...                                                 ...\n",
      "3258  EARTHQUAKE SAFETY LOS ANGELES ÛÒ SAFETY FASTE...\n",
      "3259  Storm in RI worse than last hurricane. My city...\n",
      "3260  Green Line derailment in Chicago http://t.co/U...\n",
      "3261  MEG issues Hazardous Weather Outlook (HWO) htt...\n",
      "3262  #CityofCalgary has activated its Municipal Eme...\n",
      "\n",
      "[3263 rows x 1 columns]>\n"
     ]
    }
   ],
   "source": [
    "print(\"Testing set: \", test_dataset.head)"
   ]
  },
  {
   "cell_type": "code",
   "execution_count": null,
   "id": "77be9c3b",
   "metadata": {},
   "outputs": [],
   "source": []
  }
 ],
 "metadata": {
  "kernelspec": {
   "display_name": "Python 3 (ipykernel)",
   "language": "python",
   "name": "python3"
  },
  "language_info": {
   "codemirror_mode": {
    "name": "ipython",
    "version": 3
   },
   "file_extension": ".py",
   "mimetype": "text/x-python",
   "name": "python",
   "nbconvert_exporter": "python",
   "pygments_lexer": "ipython3",
   "version": "3.9.13"
  }
 },
 "nbformat": 4,
 "nbformat_minor": 5
}
